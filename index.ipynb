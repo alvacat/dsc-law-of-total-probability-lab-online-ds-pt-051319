{
 "cells": [
  {
   "cell_type": "markdown",
   "metadata": {},
   "source": [
    "# Partitioning and Law of Total Probability - Lab\n",
    "\n",
    "## Introduction \n",
    "In this lab, you'll practice your knowledge of the law of total probability. In probability theory, the law (or formula) of total probability is a fundamental rule relating **marginal probabilities** to **conditional probabilities**.\n",
    "\n",
    "## Objectives\n",
    "\n",
    "You will be able to:\n",
    "* Understand and explain the concept of event space and partitioning \n",
    "* State the law of total probabilities based on a partitioned event space\n",
    "* Understand and be able to perform partitioning based on known and unknown probabilities to solve a problem"
   ]
  },
  {
   "cell_type": "markdown",
   "metadata": {},
   "source": [
    "## Exercise 1\n",
    "Imagine you have two hats: one has 4 red balls and 6 green balls, the other has 6 red and 4 green. We toss a fair coin, if heads, you will pick a random ball from the first hat, if tails you will pick one from the second hat. \n",
    "\n",
    "What is the probability of getting a red ball?"
   ]
  },
  {
   "cell_type": "markdown",
   "metadata": {},
   "source": [
    "#### Solution\n",
    "\n",
    "P(Red) = P(Red and First Hat) + P(Red and Second Hat)  \n",
    "P(Red) = P(Red|First Hat)P(First Hat) + P(Red|Second Hat)P(Second Hat)"
   ]
  },
  {
   "cell_type": "code",
   "execution_count": 1,
   "metadata": {},
   "outputs": [
    {
     "data": {
      "text/plain": [
       "0.5"
      ]
     },
     "execution_count": 1,
     "metadata": {},
     "output_type": "execute_result"
    }
   ],
   "source": [
    "# Your code here\n",
    "p_red_given_first_hat=4/10\n",
    "p_red_given_second_hat=6/10\n",
    "p_first_hat=1/2\n",
    "p_second_hat=1/2\n",
    "\n",
    "p_red=p_red_given_first_hat*p_first_hat + p_red_given_second_hat*p_second_hat\n",
    "p_red"
   ]
  },
  {
   "cell_type": "markdown",
   "metadata": {},
   "source": [
    "## Exercise 2\n",
    "A soccer team wins 60% of its games when it scores the first goal, and 10% of its games when the opposing team \n",
    "scores first. \n",
    "\n",
    "If the team scores the first goal about 30% of the time, what fraction of the games does it win?"
   ]
  },
  {
   "cell_type": "markdown",
   "metadata": {},
   "source": [
    "#### Solution\n",
    "\n",
    "P(Win) = P(Win and First Goal) + P(Win and Not First Goal)  \n",
    "P(Win) = P(Win|First Goal)P(First Goal) + P(Win|Not First Goal)P(Not First Goal)"
   ]
  },
  {
   "cell_type": "code",
   "execution_count": 2,
   "metadata": {},
   "outputs": [
    {
     "data": {
      "text/plain": [
       "0.25"
      ]
     },
     "execution_count": 2,
     "metadata": {},
     "output_type": "execute_result"
    }
   ],
   "source": [
    "# Your code here\n",
    "p_win_given_first_goal=0.6\n",
    "p_win_given_not_first_goal=0.1\n",
    "p_first_goal=0.3\n",
    "p_not_first_goal=0.7\n",
    "\n",
    "p_win=p_win_given_first_goal*p_first_goal + p_win_given_not_first_goal*p_not_first_goal\n",
    "p_win"
   ]
  },
  {
   "cell_type": "markdown",
   "metadata": {},
   "source": [
    "## Exercise 3"
   ]
  },
  {
   "cell_type": "markdown",
   "metadata": {},
   "source": [
    "In Europe, except for regular gas, cars regularly run on Diesel as well. At a gas station in Paris; \n",
    "\n",
    "\n",
    "* 40% of the customers fills up with Diesel (event G1) \n",
    "* 35% with gas \"Super 95\" (event G2)\n",
    "* 25% with gas \"Super 98\" (event G3). \n",
    "\n",
    "\n",
    "* 30% of the customers who buy Diesel fill their tank completely (event F). \n",
    "* For \"Super 95\" and \"Super 98\", these numbers are  60% and 50% respectively.\n",
    "\n",
    "\n",
    "- Compute the probability that the next customer completely fills their tank and buys Super 95. \n",
    "- Compute the probability that the next customer completely fills their tank\n",
    "- Given that the next customer fills their tank completely, compute the probability that they bought Diesel. \n",
    "\n",
    "Hint: Consult the theorems for conditional probability, check for dependence or independence of events"
   ]
  },
  {
   "cell_type": "markdown",
   "metadata": {},
   "source": [
    "#### Solutions\n",
    "\n",
    "1. Compute the probability that the next customer completely fills their tank and buys Super 95.\n",
    "\n",
    "P(Completely Fill and Super 95) = P(Completely Fill|Super 95)P(Super 95)\n",
    "\n",
    "2. Compute the probability that the next customer completely fills their tank. \n",
    "\n",
    "P(Completely Fill) = P(Completely Fill|Super 95)P(Super 95) + P(Completely Fill|Super 98)P(Super 98) + P(Completely Fill|Diesel)P(Diesel)\n",
    "\n",
    "3. Given that the next customer fills their tank completely, compute the probability that they bought diesel.\n",
    "\n",
    "P(Diesel|Completely Fill) = P(Diesel and Completely Fill)/P(Completely Fill)\n",
    "P(Diesel|Completely Fill) = P(Completely Fill|Diesel)P(Diesel)/P(Completely Fill)"
   ]
  },
  {
   "cell_type": "code",
   "execution_count": 12,
   "metadata": {},
   "outputs": [
    {
     "name": "stdout",
     "output_type": "stream",
     "text": [
      "#1: 0.15\n",
      "#2: 0.45499999999999996\n",
      "#3: 0.26373626373626374\n"
     ]
    }
   ],
   "source": [
    "# Your code here\n",
    "p_diesel=0.4\n",
    "p_super_95=0.35\n",
    "p_super_98=0.25\n",
    "\n",
    "p_full_tank_given_diesel=0.3\n",
    "p_full_tank_given_super_95=0.6\n",
    "p_full_tank_given_super_98=0.5\n",
    "\n",
    "#1\n",
    "p_full_and_super_95=p_full_tank_given_super_95*p_super_98\n",
    "print(\"#1: \" + str(p_full_and_super_95)) #0.15\n",
    "\n",
    "#2\n",
    "p_full=p_full_tank_given_super_95*p_super_95 + p_full_tank_given_super_98*p_super_98+p_full_tank_given_diesel*p_diesel\n",
    "print(\"#2: \"+ str(p_full)) #0.455\n",
    "\n",
    "#3\n",
    "p_diesel_given_full_tank=p_full_tank_given_diesel*p_diesel/p_full\n",
    "print(\"#3: \"+str(p_diesel_given_full_tank)) #0.264"
   ]
  },
  {
   "cell_type": "markdown",
   "metadata": {},
   "source": [
    "## Exercise 4"
   ]
  },
  {
   "cell_type": "markdown",
   "metadata": {},
   "source": [
    "United airlines operates flights from JFK to Amsterdam, to Brussels and to Copenhagen. As you may know, flights are overbooked fairly often. Let's denote the probability of the flight to Amsterdam being overbooked equal to 40%, the probability of the flight to Brussels being overbooked equal to 25%, and the probability of the flight to Copenhagen to be overbooked being equal to 35%. "
   ]
  },
  {
   "cell_type": "markdown",
   "metadata": {},
   "source": [
    "- Compute the probability that all the flights are overbooked.\n",
    "- Compute the probability of having at least one flight which is not overbooked.\n",
    "- Compute the probability that exactly one flight is overbooked.\n",
    "\n",
    "Hint: Consult the theorems for conditional probability, check for dependence or independence of events"
   ]
  },
  {
   "cell_type": "markdown",
   "metadata": {},
   "source": [
    "#### Solution\n",
    "\n",
    "1. Compute the probability that the flights are overbooked.\n",
    "\n",
    "P(All overbooked)=P(Amsterdam overbooked)P(Brussels overbooked)P(Copenhagen overbooked)\n",
    "\n",
    "2. Compute the probability of having at least one flight which is not overbooked\n",
    "\n",
    "A= Amsterdam overbooked, B = Brussels overbooked, C = Copenhagen overbooked  \n",
    "\n",
    "P(at least one not overbooked) = P(A' and B' and C') + P(A and B and C') + P(A and B' and C) + P(A and B' and C') + P(A' and B and C)   + P(A' and B and C') + P(A' and B' and C)\n",
    "\n",
    "Or:\n",
    "P(at least one not overbooked) = 1-P(all overbooked)\n",
    "\n",
    "3. Compute the probability that exactly one flight is overbooked.\n",
    "\n",
    "P(exactly one overbooked) = P(A and B' and C') + P(A' and B and C') + P(A' and B' and C)"
   ]
  },
  {
   "cell_type": "code",
   "execution_count": 2,
   "metadata": {},
   "outputs": [
    {
     "name": "stdout",
     "output_type": "stream",
     "text": [
      "#1: 0.034999999999999996\n",
      "#2: 0.965\n",
      "#3: 0.45\n"
     ]
    }
   ],
   "source": [
    "# Your code here\n",
    "p_a = 0.4 #amsterdam overbooked\n",
    "p_not_a=1-p_a\n",
    "\n",
    "p_b = 0.25 #brussels overbooked\n",
    "p_not_b=1-p_b\n",
    "\n",
    "p_c = 0.35 #copenhagen overbooked\n",
    "p_not_c=1-p_c\n",
    "\n",
    "#1\n",
    "p_all_overbooked=p_a*p_b*p_c\n",
    "print(\"#1: \"+str(p_all_overbooked))\n",
    "\n",
    "#2\n",
    "p_at_least_one_not_overbooked=1-p_all_overbooked\n",
    "print(\"#2: \"+str(p_at_least_one_not_overbooked))\n",
    "\n",
    "#3\n",
    "p_exactly_one_overbooked=p_a*p_not_b*p_not_c+p_not_a*p_b*p_not_c+p_not_a*p_not_b*p_c\n",
    "print(\"#3: \"+str(p_exactly_one_overbooked))"
   ]
  },
  {
   "cell_type": "markdown",
   "metadata": {},
   "source": [
    "## Exercise 5\n",
    "You have three bags that each contain 100 marbles:\n",
    "\n",
    "- Bag 1 has 75 red and 25 blue marbles;\n",
    "- Bag 2 has 60 red and 40 blue marbles;\n",
    "- Bag 3 has 45 red and 55 blue marbles.\n",
    "\n",
    "You choose one of the bags at random and then pick a marble from the chosen bag, also at random. \n",
    "\n",
    "What is the probability that the chosen marble is red?\n"
   ]
  },
  {
   "cell_type": "markdown",
   "metadata": {},
   "source": [
    "#### Solution\n",
    "\n",
    "P(red) = P(red|bag 1)P(bag 1) + P(red|bag 2)P(bag 2) + P(red|bag 3)P(bag 3)\n",
    "\n",
    "We don't know what the probabilities are for choosing each bag so we'll assume they're all equally likely."
   ]
  },
  {
   "cell_type": "code",
   "execution_count": 19,
   "metadata": {},
   "outputs": [
    {
     "data": {
      "text/plain": [
       "0.6"
      ]
     },
     "execution_count": 19,
     "metadata": {},
     "output_type": "execute_result"
    }
   ],
   "source": [
    "# Your code here\n",
    "p_red_given_bag_1=75/100\n",
    "p_red_given_bag_2=60/100\n",
    "p_red_given_bag_3=45/100\n",
    "\n",
    "p_bag_1=1/3\n",
    "p_bag_2=1/3\n",
    "p_bag_3=1/3\n",
    "\n",
    "p_red=p_red_given_bag_1*p_bag_1 + p_red_given_bag_2*p_bag_2 + p_red_given_bag_3*p_bag_3\n",
    "p_red"
   ]
  },
  {
   "cell_type": "markdown",
   "metadata": {},
   "source": [
    "## Summary \n",
    "\n",
    "In this lab you practiced conditional probability and its theorem with some simple problems. The key takeaway from this lab is to to be able to identify random events as dependent or independent and calculating the probability of their occurrence using appropriate methods. Next, you'll take this knowledge a step further and run simulations with conditional and total probability. "
   ]
  }
 ],
 "metadata": {
  "kernelspec": {
   "display_name": "Python 3",
   "language": "python",
   "name": "python3"
  },
  "language_info": {
   "codemirror_mode": {
    "name": "ipython",
    "version": 3
   },
   "file_extension": ".py",
   "mimetype": "text/x-python",
   "name": "python",
   "nbconvert_exporter": "python",
   "pygments_lexer": "ipython3",
   "version": "3.7.3"
  }
 },
 "nbformat": 4,
 "nbformat_minor": 2
}
